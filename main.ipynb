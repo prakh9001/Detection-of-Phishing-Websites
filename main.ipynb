{
 "cells": [
  {
   "cell_type": "code",
   "execution_count": 22,
   "metadata": {},
   "outputs": [],
   "source": [
    "import pandas as pd\n",
    "from sklearn.model_selection import train_test_split\n",
    "from sklearn import metrics\n",
    "from sklearn.svm import SVC\n",
    "from sklearn.tree import DecisionTreeClassifier\n",
    "from sklearn.linear_model import LogisticRegression\n",
    "import pickle\n",
    "# Load the dataset\n",
    "phishing_data = pd.read_csv(\"dataset_phishing.csv\") \n"
   ]
  },
  {
   "cell_type": "code",
   "execution_count": 23,
   "metadata": {},
   "outputs": [],
   "source": [
    "\n",
    "\n",
    "phishing_data = phishing_data.iloc[:, 1:]\n",
    "\n",
    "# Cambiar el valor de las clases de string a numérico para poder analizarlo\n",
    "phishing_data['status'] = phishing_data['status'].replace({'legitimate': 0, 'phishing': 1})\n",
    "\n",
    "# Separar los rasgos de la clase\n",
    "X = phishing_data.drop(\"status\", axis=1).values\n",
    "y = phishing_data[\"status\"].values\n",
    "\n",
    "X_train, X_test, y_train, y_test = train_test_split(X, y, test_size=0.2, random_state=42)\n"
   ]
  },
  {
   "cell_type": "code",
   "execution_count": 24,
   "metadata": {},
   "outputs": [],
   "source": [
    "\n",
    "# Train the Decision Tree model\n",
    "dt_model = DecisionTreeClassifier()\n",
    "dt_model.fit(X_train, y_train)\n",
    "\n",
    "# Predict on the test set using the Decision Tree model\n",
    "dt_predictions = dt_model.predict(X_test)\n",
    "\n",
    "# Evaluate the Decision Tree model\n",
    "dt_accuracy = metrics.accuracy_score(y_test, dt_predictions)\n",
    "dt_precision = metrics.precision_score(y_test, dt_predictions)\n",
    "dt_recall = metrics.recall_score(y_test, dt_predictions)\n",
    "dt_f1_score = metrics.f1_score(y_test, dt_predictions)\n"
   ]
  },
  {
   "cell_type": "code",
   "execution_count": null,
   "metadata": {},
   "outputs": [],
   "source": [
    "\n",
    "pickle.dump(dt_model,open(\"model_dt1.pkl\" , \"wb\"))"
   ]
  }
 ],
 "metadata": {
  "kernelspec": {
   "display_name": "base",
   "language": "python",
   "name": "python3"
  },
  "language_info": {
   "codemirror_mode": {
    "name": "ipython",
    "version": 3
   },
   "file_extension": ".py",
   "mimetype": "text/x-python",
   "name": "python",
   "nbconvert_exporter": "python",
   "pygments_lexer": "ipython3",
   "version": "3.9.12"
  },
  "orig_nbformat": 4
 },
 "nbformat": 4,
 "nbformat_minor": 2
}
